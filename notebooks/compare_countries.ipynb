{
 "cells": [
  {
   "cell_type": "markdown",
   "id": "7a04def4",
   "metadata": {},
   "source": [
    "1. Load Cleaned Data"
   ]
  },
  {
   "cell_type": "code",
   "execution_count": 1,
   "id": "c50a6ecf",
   "metadata": {},
   "outputs": [],
   "source": [
    "import pandas as pd\n",
    "import matplotlib.pyplot as plt\n",
    "import seaborn as sns\n",
    "from scipy.stats import f_oneway\n",
    "\n",
    "sns.set(style=\"whitegrid\")\n",
    "\n",
    "# Load datasets\n",
    "benin = pd.read_csv('../data/benin_clean.csv', parse_dates=['Timestamp'])\n",
    "togo = pd.read_csv('../data/togo_clean.csv', parse_dates=['Timestamp'])\n",
    "sierra = pd.read_csv('../data/sierra_leone_clean.csv', parse_dates=['Timestamp'])\n",
    "\n",
    "# Add country labels\n",
    "benin['Country'] = 'Benin'\n",
    "togo['Country'] = 'Togo'\n",
    "sierra['Country'] = 'Sierra Leone'\n",
    "\n",
    "# Combine\n",
    "df = pd.concat([benin, togo, sierra], ignore_index=True)"
   ]
  },
  {
   "cell_type": "code",
   "execution_count": 2,
   "id": "9218b683",
   "metadata": {},
   "outputs": [
    {
     "data": {
      "text/html": [
       "<div>\n",
       "<style scoped>\n",
       "    .dataframe tbody tr th:only-of-type {\n",
       "        vertical-align: middle;\n",
       "    }\n",
       "\n",
       "    .dataframe tbody tr th {\n",
       "        vertical-align: top;\n",
       "    }\n",
       "\n",
       "    .dataframe thead th {\n",
       "        text-align: right;\n",
       "    }\n",
       "</style>\n",
       "<table border=\"1\" class=\"dataframe\">\n",
       "  <thead>\n",
       "    <tr style=\"text-align: right;\">\n",
       "      <th></th>\n",
       "      <th>Timestamp</th>\n",
       "      <th>GHI</th>\n",
       "      <th>DNI</th>\n",
       "      <th>DHI</th>\n",
       "      <th>ModA</th>\n",
       "      <th>ModB</th>\n",
       "      <th>Tamb</th>\n",
       "      <th>RH</th>\n",
       "      <th>WS</th>\n",
       "      <th>WSgust</th>\n",
       "      <th>WSstdev</th>\n",
       "      <th>WD</th>\n",
       "      <th>WDstdev</th>\n",
       "      <th>BP</th>\n",
       "      <th>Cleaning</th>\n",
       "      <th>Precipitation</th>\n",
       "      <th>TModA</th>\n",
       "      <th>TModB</th>\n",
       "      <th>Country</th>\n",
       "    </tr>\n",
       "  </thead>\n",
       "  <tbody>\n",
       "    <tr>\n",
       "      <th>0</th>\n",
       "      <td>2021-08-09 00:01:00</td>\n",
       "      <td>0.0</td>\n",
       "      <td>0.0</td>\n",
       "      <td>0.0</td>\n",
       "      <td>0.0</td>\n",
       "      <td>0.0</td>\n",
       "      <td>26.2</td>\n",
       "      <td>93.4</td>\n",
       "      <td>2.2</td>\n",
       "      <td>0.4</td>\n",
       "      <td>0.1</td>\n",
       "      <td>122.1</td>\n",
       "      <td>0.0</td>\n",
       "      <td>998</td>\n",
       "      <td>False</td>\n",
       "      <td>0.0</td>\n",
       "      <td>26.3</td>\n",
       "      <td>26.2</td>\n",
       "      <td>Benin</td>\n",
       "    </tr>\n",
       "    <tr>\n",
       "      <th>1</th>\n",
       "      <td>2021-08-09 00:02:00</td>\n",
       "      <td>0.0</td>\n",
       "      <td>0.0</td>\n",
       "      <td>0.0</td>\n",
       "      <td>0.0</td>\n",
       "      <td>0.0</td>\n",
       "      <td>26.2</td>\n",
       "      <td>93.6</td>\n",
       "      <td>2.2</td>\n",
       "      <td>0.0</td>\n",
       "      <td>0.0</td>\n",
       "      <td>0.0</td>\n",
       "      <td>0.0</td>\n",
       "      <td>998</td>\n",
       "      <td>False</td>\n",
       "      <td>0.0</td>\n",
       "      <td>26.3</td>\n",
       "      <td>26.2</td>\n",
       "      <td>Benin</td>\n",
       "    </tr>\n",
       "    <tr>\n",
       "      <th>2</th>\n",
       "      <td>2021-08-09 00:03:00</td>\n",
       "      <td>0.0</td>\n",
       "      <td>0.0</td>\n",
       "      <td>0.0</td>\n",
       "      <td>0.0</td>\n",
       "      <td>0.0</td>\n",
       "      <td>26.2</td>\n",
       "      <td>93.7</td>\n",
       "      <td>0.3</td>\n",
       "      <td>1.1</td>\n",
       "      <td>0.5</td>\n",
       "      <td>124.6</td>\n",
       "      <td>1.5</td>\n",
       "      <td>997</td>\n",
       "      <td>False</td>\n",
       "      <td>0.0</td>\n",
       "      <td>26.4</td>\n",
       "      <td>26.2</td>\n",
       "      <td>Benin</td>\n",
       "    </tr>\n",
       "    <tr>\n",
       "      <th>3</th>\n",
       "      <td>2021-08-09 00:04:00</td>\n",
       "      <td>0.0</td>\n",
       "      <td>0.0</td>\n",
       "      <td>0.0</td>\n",
       "      <td>0.0</td>\n",
       "      <td>0.0</td>\n",
       "      <td>26.2</td>\n",
       "      <td>93.3</td>\n",
       "      <td>0.2</td>\n",
       "      <td>0.7</td>\n",
       "      <td>0.4</td>\n",
       "      <td>120.3</td>\n",
       "      <td>1.3</td>\n",
       "      <td>997</td>\n",
       "      <td>False</td>\n",
       "      <td>0.0</td>\n",
       "      <td>26.4</td>\n",
       "      <td>26.3</td>\n",
       "      <td>Benin</td>\n",
       "    </tr>\n",
       "    <tr>\n",
       "      <th>4</th>\n",
       "      <td>2021-08-09 00:05:00</td>\n",
       "      <td>0.0</td>\n",
       "      <td>0.0</td>\n",
       "      <td>0.0</td>\n",
       "      <td>0.0</td>\n",
       "      <td>0.0</td>\n",
       "      <td>26.2</td>\n",
       "      <td>93.3</td>\n",
       "      <td>0.1</td>\n",
       "      <td>0.7</td>\n",
       "      <td>0.3</td>\n",
       "      <td>113.2</td>\n",
       "      <td>1.0</td>\n",
       "      <td>997</td>\n",
       "      <td>False</td>\n",
       "      <td>0.0</td>\n",
       "      <td>26.4</td>\n",
       "      <td>26.3</td>\n",
       "      <td>Benin</td>\n",
       "    </tr>\n",
       "  </tbody>\n",
       "</table>\n",
       "</div>"
      ],
      "text/plain": [
       "            Timestamp  GHI  DNI  DHI  ModA  ModB  Tamb    RH   WS  WSgust  \\\n",
       "0 2021-08-09 00:01:00  0.0  0.0  0.0   0.0   0.0  26.2  93.4  2.2     0.4   \n",
       "1 2021-08-09 00:02:00  0.0  0.0  0.0   0.0   0.0  26.2  93.6  2.2     0.0   \n",
       "2 2021-08-09 00:03:00  0.0  0.0  0.0   0.0   0.0  26.2  93.7  0.3     1.1   \n",
       "3 2021-08-09 00:04:00  0.0  0.0  0.0   0.0   0.0  26.2  93.3  0.2     0.7   \n",
       "4 2021-08-09 00:05:00  0.0  0.0  0.0   0.0   0.0  26.2  93.3  0.1     0.7   \n",
       "\n",
       "   WSstdev     WD  WDstdev   BP  Cleaning  Precipitation  TModA  TModB Country  \n",
       "0      0.1  122.1      0.0  998     False            0.0   26.3   26.2   Benin  \n",
       "1      0.0    0.0      0.0  998     False            0.0   26.3   26.2   Benin  \n",
       "2      0.5  124.6      1.5  997     False            0.0   26.4   26.2   Benin  \n",
       "3      0.4  120.3      1.3  997     False            0.0   26.4   26.3   Benin  \n",
       "4      0.3  113.2      1.0  997     False            0.0   26.4   26.3   Benin  "
      ]
     },
     "execution_count": 2,
     "metadata": {},
     "output_type": "execute_result"
    }
   ],
   "source": [
    "df.head()"
   ]
  },
  {
   "cell_type": "markdown",
   "id": "01b595bb",
   "metadata": {},
   "source": [
    " 2. Boxplots for GHI, DNI, DHI"
   ]
  },
  {
   "cell_type": "code",
   "execution_count": 3,
   "id": "81693306",
   "metadata": {},
   "outputs": [
    {
     "name": "stderr",
     "output_type": "stream",
     "text": [
      "C:\\Users\\Alem The Kal\\AppData\\Local\\Temp\\ipykernel_5428\\2799081943.py:4: FutureWarning: \n",
      "\n",
      "Passing `palette` without assigning `hue` is deprecated and will be removed in v0.14.0. Assign the `x` variable to `hue` and set `legend=False` for the same effect.\n",
      "\n",
      "  sns.boxplot(data=df, x='Country', y=metric, palette='Set2')\n"
     ]
    },
    {
     "data": {
      "image/png": "[encoded data removed]",
      "text/plain": [
       "<Figure size 800x500 with 1 Axes>"
      ]
     },
     "metadata": {},
     "output_type": "display_data"
    },
    {
     "name": "stderr",
     "output_type": "stream",
     "text": [
      "C:\\Users\\Alem The Kal\\AppData\\Local\\Temp\\ipykernel_5428\\2799081943.py:4: FutureWarning: \n",
      "\n",
      "Passing `palette` without assigning `hue` is deprecated and will be removed in v0.14.0. Assign the `x` variable to `hue` and set `legend=False` for the same effect.\n",
      "\n",
      "  sns.boxplot(data=df, x='Country', y=metric, palette='Set2')\n"
     ]
    },
    {
     "data": {
      "image/png": "[encoded data removed]",
      "text/plain": [
       "<Figure size 800x500 with 1 Axes>"
      ]
     },
     "metadata": {},
     "output_type": "display_data"
    },
    {
     "name": "stderr",
     "output_type": "stream",
     "text": [
      "C:\\Users\\Alem The Kal\\AppData\\Local\\Temp\\ipykernel_5428\\2799081943.py:4: FutureWarning: \n",
      "\n",
      "Passing `palette` without assigning `hue` is deprecated and will be removed in v0.14.0. Assign the `x` variable to `hue` and set `legend=False` for the same effect.\n",
      "\n",
      "  sns.boxplot(data=df, x='Country', y=metric, palette='Set2')\n"
     ]
    },
    {
     "data": {
      "image/png": "[encoded data removed]",
      "text/plain": [
       "<Figure size 800x500 with 1 Axes>"
      ]
     },
     "metadata": {},
     "output_type": "display_data"
    }
   ],
   "source": [
    "metrics = ['GHI', 'DNI', 'DHI']\n",
    "for metric in metrics:\n",
    "    plt.figure(figsize=(8, 5))\n",
    "    sns.boxplot(data=df, x='Country', y=metric, palette='Set2')\n",
    "    plt.title(f'{metric} Distribution by Country')\n",
    "    plt.grid(True)\n",
    "    plt.show()"
   ]
  },
  {
   "cell_type": "markdown",
   "id": "58eb3c51",
   "metadata": {},
   "source": [
    "3. Summary Table (Mean, Median, SD)"
   ]
  },
  {
   "cell_type": "code",
   "execution_count": 4,
   "id": "87b01795",
   "metadata": {},
   "outputs": [
    {
     "data": {
      "text/html": [
       "<div>\n",
       "<style scoped>\n",
       "    .dataframe tbody tr th:only-of-type {\n",
       "        vertical-align: middle;\n",
       "    }\n",
       "\n",
       "    .dataframe tbody tr th {\n",
       "        vertical-align: top;\n",
       "    }\n",
       "\n",
       "    .dataframe thead tr th {\n",
       "        text-align: left;\n",
       "    }\n",
       "\n",
       "    .dataframe thead tr:last-of-type th {\n",
       "        text-align: right;\n",
       "    }\n",
       "</style>\n",
       "<table border=\"1\" class=\"dataframe\">\n",
       "  <thead>\n",
       "    <tr>\n",
       "      <th></th>\n",
       "      <th colspan=\"3\" halign=\"left\">GHI</th>\n",
       "      <th colspan=\"3\" halign=\"left\">DNI</th>\n",
       "      <th colspan=\"3\" halign=\"left\">DHI</th>\n",
       "    </tr>\n",
       "    <tr>\n",
       "      <th></th>\n",
       "      <th>mean</th>\n",
       "      <th>median</th>\n",
       "      <th>std</th>\n",
       "      <th>mean</th>\n",
       "      <th>median</th>\n",
       "      <th>std</th>\n",
       "      <th>mean</th>\n",
       "      <th>median</th>\n",
       "      <th>std</th>\n",
       "    </tr>\n",
       "    <tr>\n",
       "      <th>Country</th>\n",
       "      <th></th>\n",
       "      <th></th>\n",
       "      <th></th>\n",
       "      <th></th>\n",
       "      <th></th>\n",
       "      <th></th>\n",
       "      <th></th>\n",
       "      <th></th>\n",
       "      <th></th>\n",
       "    </tr>\n",
       "  </thead>\n",
       "  <tbody>\n",
       "    <tr>\n",
       "      <th>Benin</th>\n",
       "      <td>241.96</td>\n",
       "      <td>1.8</td>\n",
       "      <td>330.10</td>\n",
       "      <td>167.44</td>\n",
       "      <td>0.0</td>\n",
       "      <td>261.55</td>\n",
       "      <td>116.99</td>\n",
       "      <td>1.6</td>\n",
       "      <td>157.46</td>\n",
       "    </tr>\n",
       "    <tr>\n",
       "      <th>Sierra Leone</th>\n",
       "      <td>204.41</td>\n",
       "      <td>0.3</td>\n",
       "      <td>296.79</td>\n",
       "      <td>116.52</td>\n",
       "      <td>0.0</td>\n",
       "      <td>218.57</td>\n",
       "      <td>116.27</td>\n",
       "      <td>0.0</td>\n",
       "      <td>157.02</td>\n",
       "    </tr>\n",
       "    <tr>\n",
       "      <th>Togo</th>\n",
       "      <td>231.72</td>\n",
       "      <td>2.1</td>\n",
       "      <td>321.69</td>\n",
       "      <td>151.26</td>\n",
       "      <td>0.0</td>\n",
       "      <td>250.96</td>\n",
       "      <td>116.44</td>\n",
       "      <td>2.5</td>\n",
       "      <td>156.52</td>\n",
       "    </tr>\n",
       "  </tbody>\n",
       "</table>\n",
       "</div>"
      ],
      "text/plain": [
       "                 GHI                    DNI                    DHI         \\\n",
       "                mean median     std    mean median     std    mean median   \n",
       "Country                                                                     \n",
       "Benin         241.96    1.8  330.10  167.44    0.0  261.55  116.99    1.6   \n",
       "Sierra Leone  204.41    0.3  296.79  116.52    0.0  218.57  116.27    0.0   \n",
       "Togo          231.72    2.1  321.69  151.26    0.0  250.96  116.44    2.5   \n",
       "\n",
       "                      \n",
       "                 std  \n",
       "Country               \n",
       "Benin         157.46  \n",
       "Sierra Leone  157.02  \n",
       "Togo          156.52  "
      ]
     },
     "execution_count": 4,
     "metadata": {},
     "output_type": "execute_result"
    }
   ],
   "source": [
    "summary = df.groupby('Country')[['GHI', 'DNI', 'DHI']].agg(['mean', 'median', 'std']).round(2)\n",
    "summary"
   ]
  },
  {
   "cell_type": "markdown",
   "id": "1ed8d6d8",
   "metadata": {},
   "source": [
    "4. Statistical Test (One-Way ANOVA)"
   ]
  },
  {
   "cell_type": "code",
   "execution_count": 5,
   "id": "24e2bdc4",
   "metadata": {},
   "outputs": [
    {
     "name": "stdout",
     "output_type": "stream",
     "text": [
      "ANOVA Result for GHI across countries:\n",
      "F-statistic: 1977.07, p-value: 0.00000\n"
     ]
    }
   ],
   "source": [
    "f_stat, p_val = f_oneway(\n",
    "    df[df['Country'] == 'Benin']['GHI'],\n",
    "    df[df['Country'] == 'Togo']['GHI'],\n",
    "    df[df['Country'] == 'Sierra Leone']['GHI']\n",
    ")\n",
    "\n",
    "print(f\"ANOVA Result for GHI across countries:\")\n",
    "print(f\"F-statistic: {f_stat:.2f}, p-value: {p_val:.5f}\")"
   ]
  },
  {
   "cell_type": "markdown",
   "id": "0a6be354",
   "metadata": {},
   "source": []
  },
  {
   "cell_type": "markdown",
   "id": "8094d1c3",
   "metadata": {},
   "source": [
    "As the p-value is < 0.05, differences are statistically significant."
   ]
  },
  {
   "cell_type": "markdown",
   "id": "5cd99883",
   "metadata": {},
   "source": [
    "5. Key Observations\n",
    "\n",
    "- Benin has the highest mean GHI (241.96 W/m²) and the widest variability, as indicated by its large standard deviation (330.10).\n",
    "- Togo has the highest median GHI (2.1), suggesting it consistently receives moderate irradiance, though its average is slightly below Benin’s.\n",
    "- Sierra Leone records the lowest GHI mean and median, indicating lower solar potential compared to the other two.\n",
    "- ANOVA test result: p-value = 0.00000, indicating that GHI differences between countries are statistically significant at p < 0.05."
   ]
  },
  {
   "cell_type": "markdown",
   "id": "cd41a992",
   "metadata": {},
   "source": [
    "6. GHI Ranking Bar Chart"
   ]
  },
  {
   "cell_type": "code",
   "execution_count": 6,
   "id": "955095f2",
   "metadata": {},
   "outputs": [
    {
     "name": "stderr",
     "output_type": "stream",
     "text": [
      "C:\\Users\\Alem The Kal\\AppData\\Local\\Temp\\ipykernel_5428\\4224448280.py:4: FutureWarning: \n",
      "\n",
      "Passing `palette` without assigning `hue` is deprecated and will be removed in v0.14.0. Assign the `y` variable to `hue` and set `legend=False` for the same effect.\n",
      "\n",
      "  sns.barplot(x=ghi_avg.values, y=ghi_avg.index, palette='Blues_r')\n"
     ]
    },
    {
     "data": {
      "image/png": "[encoded data removed]",
      "text/plain": [
       "<Figure size 700x500 with 1 Axes>"
      ]
     },
     "metadata": {},
     "output_type": "display_data"
    }
   ],
   "source": [
    "ghi_avg = df.groupby('Country')['GHI'].mean().sort_values(ascending=False)\n",
    "\n",
    "plt.figure(figsize=(7, 5))\n",
    "sns.barplot(x=ghi_avg.values, y=ghi_avg.index, palette='Blues_r')\n",
    "plt.title('Average GHI Ranking by Country')\n",
    "plt.xlabel('Mean GHI (W/m²)')\n",
    "plt.show()"
   ]
  }
 ],
 "metadata": {
  "kernelspec": {
   "display_name": ".venv",
   "language": "python",
   "name": "python3"
  },
  "language_info": {
   "codemirror_mode": {
    "name": "ipython",
    "version": 3
   },
   "file_extension": ".py",
   "mimetype": "text/x-python",
   "name": "python",
   "nbconvert_exporter": "python",
   "pygments_lexer": "ipython3",
   "version": "3.13.1"
  }
 },
 "nbformat": 4,
 "nbformat_minor": 5
}
